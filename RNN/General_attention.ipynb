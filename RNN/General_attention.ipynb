{
 "cells": [
  {
   "cell_type": "code",
   "execution_count": 18,
   "metadata": {},
   "outputs": [
    {
     "name": "stdout",
     "output_type": "stream",
     "text": [
      "WORDS \n",
      " [[1 0 0]\n",
      " [0 1 0]\n",
      " [0 0 1]\n",
      " [1 0 0]]\n"
     ]
    }
   ],
   "source": [
    "from numpy import array ,random,dot\n",
    "from scipy.special import softmax\n",
    "\n",
    "# encoder representation of four words \n",
    "word1 = array([1,0,0])\n",
    "word2 = array([0,1,0])\n",
    "word3 = array([0,0,1])\n",
    "word4 = array([1,0,0])\n",
    "\n",
    "# stacking the word into single array\n",
    "words = array([word1,word2,word3,word4])\n",
    "print(\"WORDS \\n\",words)"
   ]
  },
  {
   "cell_type": "code",
   "execution_count": 19,
   "metadata": {},
   "outputs": [
    {
     "name": "stdout",
     "output_type": "stream",
     "text": [
      "QUERY \n",
      " [[2 0 2]\n",
      " [2 0 0]\n",
      " [2 1 2]\n",
      " [2 0 2]]\n",
      "KEYS \n",
      " [[2 2 2]\n",
      " [0 2 1]\n",
      " [0 1 1]\n",
      " [2 2 2]]\n",
      "VALUES \n",
      " [[1 1 0]\n",
      " [0 1 1]\n",
      " [0 0 0]\n",
      " [1 1 0]]\n"
     ]
    }
   ],
   "source": [
    "# generation weights matrices \n",
    "random.seed(42)\n",
    "W_Q = random.randint(3,size=(3,3))\n",
    "W_k = random.randint(3,size=(3,3))\n",
    "W_V = random.randint(3,size=(3,3))\n",
    "\n",
    "# generating the  queries , keys , values\n",
    "Q =  words @ W_Q\n",
    "k =  words @ W_k\n",
    "V =  words @ W_V\n",
    "\n",
    "print(\"QUERY \\n\",Q)\n",
    "print(\"KEYS \\n\" ,k)\n",
    "print(\"VALUES \\n\" ,V)"
   ]
  },
  {
   "cell_type": "code",
   "execution_count": 21,
   "metadata": {},
   "outputs": [
    {
     "name": "stdout",
     "output_type": "stream",
     "text": [
      "SCORES-------\n",
      " [[ 8  2  2  8]\n",
      " [ 4  0  0  4]\n",
      " [10  4  3 10]\n",
      " [ 8  2  2  8]]\n",
      "SHAPE OF K-----\n",
      " 3\n",
      "WIEGHTS-------\n",
      " [[0.48482445 0.01517555 0.01517555 0.48482445]\n",
      " [0.45482632 0.04517368 0.04517368 0.45482632]\n",
      " [0.48807319 0.01527723 0.00857639 0.48807319]\n",
      " [0.48482445 0.01517555 0.01517555 0.48482445]]\n",
      "ATTENTION-----------\n",
      " [[0.96964891 0.98482445 0.01517555]\n",
      " [0.90965265 0.95482632 0.04517368]\n",
      " [0.97614637 0.99142361 0.01527723]\n",
      " [0.96964891 0.98482445 0.01517555]]\n"
     ]
    }
   ],
   "source": [
    "# scoring the query ,  keys , and values\n",
    "scores = Q @ k.transpose()\n",
    "print(\"SCORES-------\\n\",scores)\n",
    "print(\"SHAPE OF K-----\\n\",k.shape[1])\n",
    "weights = softmax(scores/k.shape[1]**0.5,axis=1) # computing the weights\n",
    "print(\"WIEGHTS-------\\n\",weights)\n",
    "\n",
    "# computing the attention by a weighted sum of the value vectors\n",
    "attention = weights @ V\n",
    "print(\"ATTENTION-----------\\n\",attention)"
   ]
  },
  {
   "cell_type": "code",
   "execution_count": null,
   "metadata": {},
   "outputs": [],
   "source": []
  },
  {
   "cell_type": "code",
   "execution_count": null,
   "metadata": {},
   "outputs": [],
   "source": []
  },
  {
   "cell_type": "code",
   "execution_count": null,
   "metadata": {},
   "outputs": [],
   "source": []
  },
  {
   "cell_type": "code",
   "execution_count": null,
   "metadata": {},
   "outputs": [],
   "source": []
  }
 ],
 "metadata": {
  "kernelspec": {
   "display_name": "stark",
   "language": "python",
   "name": "python3"
  },
  "language_info": {
   "codemirror_mode": {
    "name": "ipython",
    "version": 3
   },
   "file_extension": ".py",
   "mimetype": "text/x-python",
   "name": "python",
   "nbconvert_exporter": "python",
   "pygments_lexer": "ipython3",
   "version": "3.9.20"
  }
 },
 "nbformat": 4,
 "nbformat_minor": 2
}
