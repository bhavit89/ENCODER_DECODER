{
 "cells": [
  {
   "cell_type": "code",
   "execution_count": 218,
   "metadata": {},
   "outputs": [],
   "source": [
    "import torch\n",
    "import torch.nn as nn \n",
    "import numpy as  np \n",
    "import torch.nn.functional as F "
   ]
  },
  {
   "cell_type": "code",
   "execution_count": 219,
   "metadata": {},
   "outputs": [
    {
     "data": {
      "text/plain": [
       "<torch._C.Generator at 0x7d4fcb4dbad0>"
      ]
     },
     "execution_count": 219,
     "metadata": {},
     "output_type": "execute_result"
    }
   ],
   "source": [
    "# Define RNN model \n",
    "\n",
    "class SimpleRNN(nn.Module):\n",
    "    def __init__(self, input_size, hidden_size, dense_size):\n",
    "        super(SimpleRNN, self).__init__()\n",
    "        self.rnn = nn.RNN(input_size, hidden_size, batch_first=True)\n",
    "        self.fc = nn.Linear(hidden_size, dense_size)\n",
    "\n",
    "    # Corrected method name\n",
    "    def forward(self, x):\n",
    "        out, _ = self.rnn(x)\n",
    "        out = self.fc(out[:, -1, :])  # Take the last timestep output for predictions\n",
    "        return out\n",
    "\n",
    "\n",
    "input_size = 1\n",
    "hidden_size = 2\n",
    "dense_size = 1\n",
    "\n",
    "model = SimpleRNN(input_size,hidden_size,dense_size)\n",
    "torch.manual_seed(0)  # Set seed for reproducibility"
   ]
  },
  {
   "cell_type": "code",
   "execution_count": 220,
   "metadata": {},
   "outputs": [
    {
     "data": {
      "text/plain": [
       "SimpleRNN(\n",
       "  (rnn): RNN(1, 2, batch_first=True)\n",
       "  (fc): Linear(in_features=2, out_features=1, bias=True)\n",
       ")"
      ]
     },
     "execution_count": 220,
     "metadata": {},
     "output_type": "execute_result"
    }
   ],
   "source": [
    "model"
   ]
  },
  {
   "cell_type": "code",
   "execution_count": 221,
   "metadata": {},
   "outputs": [
    {
     "name": "stdout",
     "output_type": "stream",
     "text": [
      "wx = [[-0.00529398]\n",
      " [ 0.3793229 ]]\n",
      "wh = [[-0.58198076 -0.5203875 ]\n",
      " [-0.27234524  0.18961589]]\n",
      "bh = [-0.06275152  0.18710934]\n",
      "wy = [[-0.21369691 -0.13899271]]\n",
      "by = [-0.6755334]\n"
     ]
    }
   ],
   "source": [
    "# Extracting weights\n",
    "wx = model.rnn.weight_ih_l0.data.numpy()  # Input-hidden weights\n",
    "wh = model.rnn.weight_hh_l0.data.numpy()  # Hidden-hidden weights\n",
    "bh = model.rnn.bias_hh_l0.data.numpy()    # Hidden bias\n",
    "wy = model.fc.weight.data.numpy()       # Fully connected layer weights\n",
    "by = model.fc.bias.data.numpy()           # Fully connected layer bias\n",
    "\n",
    "print('wx =', wx)\n",
    "print('wh =', wh)\n",
    "print('bh =', bh)\n",
    "print('wy =', wy)\n",
    "print('by =', by)"
   ]
  },
  {
   "cell_type": "code",
   "execution_count": 222,
   "metadata": {},
   "outputs": [
    {
     "name": "stdout",
     "output_type": "stream",
     "text": [
      "BEFORE RESHAPING [1 2 3]\n",
      "AFTER RESHAPING tensor([[[1.],\n",
      "         [2.],\n",
      "         [3.]]])\n",
      " 1st dimension MEANS BATCH SIZE \n",
      " 2nd dimension means Sequence lenght \n",
      " 3rd dimension means input size\n"
     ]
    }
   ],
   "source": [
    "x = np.array([1,2,3])\n",
    "print(\"BEFORE RESHAPING\",x)\n",
    "x_tensor = torch.tensor(x,dtype=torch.float32).reshape(1,3,1)\n",
    "print(\"AFTER RESHAPING\",x_tensor)\n",
    "print(\" 1st dimension MEANS BATCH SIZE \\n 2nd dimension means Sequence lenght \\n 3rd dimension means input size\" )"
   ]
  },
  {
   "cell_type": "code",
   "execution_count": 223,
   "metadata": {},
   "outputs": [
    {
     "name": "stdout",
     "output_type": "stream",
     "text": [
      "PREDICTION FROM  MODEL [[-0.74345857]]\n"
     ]
    }
   ],
   "source": [
    "y_pred = model(x_tensor).detach().numpy()\n",
    "print(\"PREDICTION FROM  MODEL\" ,y_pred)"
   ]
  },
  {
   "cell_type": "code",
   "execution_count": 224,
   "metadata": {},
   "outputs": [
    {
     "name": "stdout",
     "output_type": "stream",
     "text": [
      "(2, 2) (1, 2)\n",
      "h1 = [[-0.0680455   0.18181536]\n",
      " [ 0.31657137  0.56643222]] h2 = [[-0.08325486  0.24640648]\n",
      " [ 0.35739069  0.88841989]] h3 = [[-0.09728837  0.26127476]\n",
      " [ 0.62526571  1.30755489]]\n",
      "Prediction from network  [[-0.74345857]]\n",
      "Prediction from our computation  [[-0.69105848]\n",
      " [-0.99089136]]\n"
     ]
    }
   ],
   "source": [
    "m = hidden_size\n",
    "h0 = np.zeros(m)  # Initial hidden state\n",
    "h1 = np.dot(x[0], wx) + h0 + bh\n",
    "h2 = np.dot(x[1], wx) + np.dot(h1,wh) + bh\n",
    "h3 = np.dot(x[2], wx) + np.dot(h2,wh) + bh\n",
    "print(h3.shape, wy.shape)\n",
    "o3 = np.dot(h3, wy.T) + by\n",
    "print('h1 =', h1,'h2 =', h2,'h3 =', h3)\n",
    "print(\"Prediction from network \", y_pred)\n",
    "print(\"Prediction from our computation \", o3)"
   ]
  }
 ],
 "metadata": {
  "kernelspec": {
   "display_name": "stark",
   "language": "python",
   "name": "python3"
  },
  "language_info": {
   "codemirror_mode": {
    "name": "ipython",
    "version": 3
   },
   "file_extension": ".py",
   "mimetype": "text/x-python",
   "name": "python",
   "nbconvert_exporter": "python",
   "pygments_lexer": "ipython3",
   "version": "3.9.20"
  }
 },
 "nbformat": 4,
 "nbformat_minor": 2
}
